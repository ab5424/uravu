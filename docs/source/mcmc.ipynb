{
 "cells": [
  {
   "cell_type": "markdown",
   "metadata": {},
   "source": [
    "# Markov chain Monte Carlo\n",
    "\n",
    "In the [previous tutorial](./max_likelihood.html), you were introduced to the idea of the **likelihood**, $L$. \n",
    "This parameter is just one of the components of Bayes theorem, the foundation of Bayesian inference, \n",
    "\n",
    "$$ p = \\frac{P L}{Z}, $$ \n",
    "\n",
    "where, $p$ is the posterior probability, $P$ is the prior probability, and $Z$ is the evidence (more about these latter two factors in the [custom priors](./custom_priors.html) and [nested sampling](nested_sampling.html) tutorials). \n",
    "This tutorial will show how Markov chain Monte Carlo may be used to evaluate the shape of the posterior probability, and show what this means for our understanding of a models inverse uncertainties. \n",
    "\n",
    "Let's start where we left the previous tutorial, with a set of variables that maximise the likelihood of some model."
   ]
  },
  {
   "cell_type": "code",
   "execution_count": null,
   "metadata": {},
   "outputs": [],
   "source": [
    "import numpy as np\n",
    "import matplotlib.pyplot as plt"
   ]
  },
  {
   "cell_type": "code",
   "execution_count": null,
   "metadata": {},
   "outputs": [],
   "source": [
    "np.random.seed(1)"
   ]
  },
  {
   "cell_type": "code",
   "execution_count": null,
   "metadata": {},
   "outputs": [],
   "source": [
    "x = np.linspace(0, 10, 20)\n",
    "y = np.exp(0.5 * x) * 4\n",
    "y += y * np.random.randn(20) * 0.1\n",
    "dy = y * 0.2"
   ]
  },
  {
   "cell_type": "code",
   "execution_count": null,
   "metadata": {},
   "outputs": [],
   "source": [
    "def my_model(x, a, b):\n",
    "    \"\"\"\n",
    "    A function to describe the model under investgation.\n",
    "    \n",
    "    Args:\n",
    "        x (array_like): Abscissa data.\n",
    "        a (float): The pre-exponential factor.\n",
    "        b (float): The x-multiplicative factor.\n",
    "    \n",
    "    Returns\n",
    "        y (array_like): Ordinate data.\n",
    "    \"\"\"\n",
    "    return a * np.exp(b * x)"
   ]
  },
  {
   "cell_type": "code",
   "execution_count": null,
   "metadata": {},
   "outputs": [],
   "source": [
    "from uravu.relationship import Relationship"
   ]
  },
  {
   "cell_type": "code",
   "execution_count": null,
   "metadata": {},
   "outputs": [],
   "source": [
    "from uravu import UREG"
   ]
  },
  {
   "cell_type": "code",
   "execution_count": null,
   "metadata": {},
   "outputs": [],
   "source": [
    "modeller = Relationship(my_model, x, y, dy)\n",
    "modeller.max_likelihood()"
   ]
  },
  {
   "cell_type": "code",
   "execution_count": null,
   "metadata": {},
   "outputs": [],
   "source": [
    "from uravu import plotting"
   ]
  },
  {
   "cell_type": "code",
   "execution_count": null,
   "metadata": {},
   "outputs": [],
   "source": [
    "ax = plotting.plot_relationship(modeller)\n",
    "plt.show()"
   ]
  },
  {
   "cell_type": "markdown",
   "metadata": {},
   "source": [
    "The maximum likelihood values for the variables, `a` and `b`, in `my_model()` are,"
   ]
  },
  {
   "cell_type": "code",
   "execution_count": null,
   "metadata": {},
   "outputs": [],
   "source": [
    "print(modeller.variables)"
   ]
  },
  {
   "cell_type": "markdown",
   "metadata": {},
   "source": [
    "It is clear from the plot above that there is some uncertainty in the experimental data (shown be the blue shaded region). \n",
    "However, there is no uncertainty in the variables currently, because these are the single values which **maximize** the likelihood. \n",
    "\n",
    "This is where the posterior distributions are useful. \n",
    "If we know the structure of these distributions, we can attribute confidence intervals (and when the distributions are Gaussian standard deviations) to these variables. \n",
    "\n",
    "MCMC is a tool that we can use to *sample* the posterior distribution. \n",
    "In `uravu` performing an MCMC sampling for some relationship is as simple as, "
   ]
  },
  {
   "cell_type": "code",
   "execution_count": null,
   "metadata": {},
   "outputs": [],
   "source": [
    "modeller.mcmc()"
   ]
  },
  {
   "cell_type": "markdown",
   "metadata": {},
   "source": [
    "Having performed the MCMC sampling, lets visualise the results."
   ]
  },
  {
   "cell_type": "code",
   "execution_count": null,
   "metadata": {},
   "outputs": [],
   "source": [
    "plotting.plot_corner(modeller)\n",
    "plt.show()"
   ]
  },
  {
   "cell_type": "markdown",
   "metadata": {},
   "source": [
    "Above is a [corner](https://corner.readthedocs.io/) plot, showing the posterior distribution for each variables and a correlation plot showing the correlation between them. \n",
    "\n",
    "Each variable is stored in a list in the `variables` object. "
   ]
  },
  {
   "cell_type": "code",
   "execution_count": null,
   "metadata": {},
   "outputs": [],
   "source": [
    "print(modeller.variables[0])"
   ]
  },
  {
   "cell_type": "markdown",
   "metadata": {},
   "source": [
    "These objects are of type `uravu.distribution.Distribution`, a special class for storing information about a distribution. \n",
    "\n",
    "Above we can see that variable `a`, is normally distributed (Gaussian) and can be reported as $3.83\\pm0.34$. \n",
    "\n",
    "The `uravu` plotting will take advantage of these `Distribution` class objects.\n",
    "When the relationship is plotted, a subset of the models that are probable for the given data will be plotted, giving a *probability distribution* of lines on the plot on top of the data. "
   ]
  },
  {
   "cell_type": "code",
   "execution_count": null,
   "metadata": {},
   "outputs": [],
   "source": [
    "plotting.plot_relationship(modeller)\n",
    "plt.show()"
   ]
  },
  {
   "cell_type": "markdown",
   "metadata": {},
   "source": [
    "The orange line is now spread across most of the blue shaded area, indication the range of probable models that are available given the data. "
   ]
  }
 ],
 "metadata": {
  "kernelspec": {
   "display_name": "Python 3",
   "language": "python",
   "name": "python3"
  },
  "language_info": {
   "codemirror_mode": {
    "name": "ipython",
    "version": 3
   },
   "file_extension": ".py",
   "mimetype": "text/x-python",
   "name": "python",
   "nbconvert_exporter": "python",
   "pygments_lexer": "ipython3",
   "version": "3.7.3"
  }
 },
 "nbformat": 4,
 "nbformat_minor": 4
}
