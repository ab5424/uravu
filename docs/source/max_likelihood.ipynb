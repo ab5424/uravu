{
 "cells": [
  {
   "cell_type": "markdown",
   "metadata": {},
   "source": [
    "# Maximum likelihood\n",
    "\n",
    "In Bayesian modelling, the **likelihood**, $L$, is the name given to the measure of the goodness of fit between the model, with some given parameters, and the data. \n",
    "When the maximum likelihood, $\\hat{L}$, is found, the most likely statistical model has been found for the given data. \n",
    "\n",
    "In this tutorial we will see how `uravu` can be used to maximize the likelihood of a model for some dataset.\n",
    "\n",
    "In `uravu`, the likelihood is calculated as follows, \n",
    "\n",
    "$$ \\ln L = -0.5 \\sum_{i=1}^n \\bigg[ \\frac{(y_i - m_i) ^2}{s_i^2} + \\ln(2 \\pi s_i^2) \\bigg], $$\n",
    "\n",
    "where, $y$ is the data ordinate, $m$ is the model ordinate, and $s$ is, \n",
    "\n",
    "$$ s_i^2 = \\delta y_i^2 + f^2 m_i^2 $$,\n",
    "\n",
    "where $\\delta y$ is the uncertainty in $y$ and $f$ is the fraction of unaccounted for uncertainty (more about this can be found in the [Unaccounted uncertainty](./unaccounted_uncertainty.html) tutorial.)\n",
    "`uravu` is able to maximize this function with the help of the [`scipy.optimize.minimize()`](https://docs.scipy.org/doc/scipy/reference/generated/scipy.optimize.minimize.html) function (we minimize the negative of the likelihood).\n",
    "\n",
    "Before we maximise the likelihood, is it necessary to create some *synthetic* data to analyse. "
   ]
  },
  {
   "cell_type": "code",
   "execution_count": 1,
   "metadata": {},
   "outputs": [],
   "source": [
    "import numpy as np\n",
    "import matplotlib.pyplot as plt"
   ]
  },
  {
   "cell_type": "code",
   "execution_count": 2,
   "metadata": {},
   "outputs": [],
   "source": [
    "x = np.linspace(0, 10, 20)\n",
    "y = np.exp(0.5 * x) * 4\n",
    "y += y * np.random.randn(20) * 0.1\n",
    "dy = y * 0.2"
   ]
  },
  {
   "cell_type": "code",
   "execution_count": 3,
   "metadata": {},
   "outputs": [
    {
     "data": {
      "text/plain": [
       "<ErrorbarContainer object of 3 artists>"
      ]
     },
     "execution_count": 3,
     "metadata": {},
     "output_type": "execute_result"
    },
    {
     "data": {
      "image/png": "[encoded data removed]",
      "text/plain": [
       "<Figure size 432x288 with 1 Axes>"
      ]
     },
     "metadata": {
      "needs_background": "light"
     },
     "output_type": "display_data"
    }
   ],
   "source": [
    "plt.errorbar(x, y, dy, marker='o', ls='')"
   ]
  },
  {
   "cell_type": "markdown",
   "metadata": {},
   "source": [
    "The data plotted above may be modelled with the following relationship, \n",
    "\n",
    "$$ y = a\\exp(bx), $$\n",
    "\n",
    "where $a$ and $b$ are the variables of interest in the modelling process. \n",
    "We want to find the values of these variables, which maximises the likelihood. \n",
    "\n",
    "First, we must write a function do describe the model."
   ]
  },
  {
   "cell_type": "code",
   "execution_count": 4,
   "metadata": {},
   "outputs": [],
   "source": [
    "def my_model(x, a, b):\n",
    "    \"\"\"\n",
    "    A function to describe the model under investgation.\n",
    "    \n",
    "    Args:\n",
    "        x (array_like): Abscissa data.\n",
    "        a (float): The pre-exponential factor.\n",
    "        b (float): The x-multiplicative factor.\n",
    "    \n",
    "    Returns\n",
    "        y (array_like): Ordinate data.\n",
    "    \"\"\"\n",
    "    return a * np.exp(b * x)"
   ]
  },
  {
   "cell_type": "markdown",
   "metadata": {},
   "source": [
    "With our model defined, we can construct a `Relationship` object. "
   ]
  },
  {
   "cell_type": "code",
   "execution_count": 5,
   "metadata": {},
   "outputs": [],
   "source": [
    "from uravu.relationship import Relationship"
   ]
  },
  {
   "cell_type": "code",
   "execution_count": 6,
   "metadata": {},
   "outputs": [],
   "source": [
    "modeller = Relationship(my_model, x, y, dy)"
   ]
  },
  {
   "cell_type": "code",
   "execution_count": 7,
   "metadata": {},
   "outputs": [
    {
     "name": "stdout",
     "output_type": "stream",
     "text": [
      "Function Name: my_model \n",
      "Abscissa: [ 0.00e+00 5.26e-01 ... 9.47e+00 1.00e+01 ] \n",
      "Ordinate: [ 4.78e+00 5.37e+00 ... 4.50e+02 6.12e+02 ] \n",
      "Ordinate uncertainty: [ 9.57e-01 1.07e+00 ... 9.00e+01 1.22e+02 ]\n",
      "Abscissa Name: x \n",
      "Ordinate Name: y \n",
      "Abscissa Unit: dimensionless \n",
      "Ordinate Unit: dimensionless \n",
      "Variables: [ 1.00e+00 1.00e+00 ] \n",
      "Unaccounted uncertainty: False \n",
      "MCMC performed: False \n",
      "Nested sampling performed: False \n",
      "\n"
     ]
    }
   ],
   "source": [
    "print(modeller)"
   ]
  },
  {
   "cell_type": "markdown",
   "metadata": {},
   "source": [
    "The `Relationship` object gives us access to a few exciting Bayesian modelling methods.\n",
    "However, this tutorial is focused on maximising the likelihood, this is achieved with the `max_likelihood()` class method. "
   ]
  },
  {
   "cell_type": "code",
   "execution_count": 8,
   "metadata": {},
   "outputs": [],
   "source": [
    "modeller.max_likelihood()"
   ]
  },
  {
   "cell_type": "code",
   "execution_count": 9,
   "metadata": {},
   "outputs": [
    {
     "name": "stdout",
     "output_type": "stream",
     "text": [
      "[3.94681726 0.50297656]\n"
     ]
    }
   ],
   "source": [
    "print(modeller.variables)"
   ]
  },
  {
   "cell_type": "markdown",
   "metadata": {},
   "source": [
    "We can see that the variables have changed to be close to the values into in the data synthesis. \n",
    "\n",
    "Let's inspect the model visually. \n",
    "This can be achieved easily with the `plotting` module in `uravu`."
   ]
  },
  {
   "cell_type": "code",
   "execution_count": 10,
   "metadata": {},
   "outputs": [],
   "source": [
    "from uravu import plotting"
   ]
  },
  {
   "cell_type": "code",
   "execution_count": 11,
   "metadata": {},
   "outputs": [
    {
     "data": {
      "image/png": "[encoded data removed]",
      "text/plain": [
       "<Figure size 720x432 with 1 Axes>"
      ]
     },
     "metadata": {
      "needs_background": "light"
     },
     "output_type": "display_data"
    }
   ],
   "source": [
    "ax = plotting.plot_relationship(modeller)\n",
    "plt.show()"
   ]
  },
  {
   "cell_type": "markdown",
   "metadata": {},
   "source": [
    "Above, we can see that the orange line of maximum likelihood agrees well with the data. "
   ]
  },
  {
   "cell_type": "code",
   "execution_count": null,
   "metadata": {},
   "outputs": [],
   "source": []
  }
 ],
 "metadata": {
  "kernelspec": {
   "display_name": "Python 3",
   "language": "python",
   "name": "python3"
  },
  "language_info": {
   "codemirror_mode": {
    "name": "ipython",
    "version": 3
   },
   "file_extension": ".py",
   "mimetype": "text/x-python",
   "name": "python",
   "nbconvert_exporter": "python",
   "pygments_lexer": "ipython3",
   "version": "3.7.3"
  }
 },
 "nbformat": 4,
 "nbformat_minor": 4
}
