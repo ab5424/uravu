{
 "cells": [
  {
   "cell_type": "markdown",
   "metadata": {},
   "source": [
    "# Nested sampling\n",
    "\n",
    "In the [MCMC tutorial](./mcmc.html), Bayes theorem was shown, \n",
    "\n",
    "$$ p = \\frac{P L}{Z}, $$\n",
    "\n",
    "where where, $p$ is the posterior probability, $P$ is the prior probability, $L$ is the likelihood, and $Z$ is the evidence. \n",
    "Normally, in the evaluation of the posterior probability, the evidence is removed as a constant of propertionality. \n",
    "This is due to the fact that it is a single value for a given model and dataset pair. \n",
    "\n",
    "However, sometimes it is desirable to find the evidence for a model to a given dataset.\n",
    "In particular, when we want to compare the evidence for a series of models, to determine which best describes the dataset.\n",
    "In order to achieve this, `uravu` is able to perform [nested sampling](https://doi.org/10.1063/1.1835238) to estimate the Bayesian evidence for a model given a particular dataset. \n",
    "\n",
    "This tutorial will show how this is achieved, and show the utility of Bayesian model selection. \n",
    "\n",
    "However, as always we must first create some *synthetic* data. "
   ]
  },
  {
   "cell_type": "code",
   "execution_count": null,
   "metadata": {},
   "outputs": [],
   "source": [
    "import numpy as np\n",
    "import matplotlib.pyplot as plt"
   ]
  },
  {
   "cell_type": "code",
   "execution_count": null,
   "metadata": {},
   "outputs": [],
   "source": [
    "np.random.seed(2)"
   ]
  },
  {
   "cell_type": "code",
   "execution_count": null,
   "metadata": {},
   "outputs": [],
   "source": [
    "x = np.linspace(10, 50, 20)\n",
    "y = .3 * x ** 2 - 1.4 * x + .2\n",
    "y += y * np.random.randn(20) * 0.05\n",
    "dy = 3 * x"
   ]
  },
  {
   "cell_type": "code",
   "execution_count": null,
   "metadata": {},
   "outputs": [],
   "source": [
    "plt.errorbar(x, y, dy, marker='o', ls='')\n",
    "plt.show()"
   ]
  },
  {
   "cell_type": "markdown",
   "metadata": {},
   "source": [
    "From looking at the code used to synthesize this data, it is clear that the functional from of the model is a quadratic polynomial. \n",
    "However, if this was data collected from some measurement and the physical theory suggests it should be analysed with a polynormial of unknown degree then Bayesian model selection would be the ideal tool to find the best model. \n",
    "\n",
    "Let's quickly write a few models to perform the `n` degree polynomial analysis with. "
   ]
  },
  {
   "cell_type": "code",
   "execution_count": null,
   "metadata": {},
   "outputs": [],
   "source": [
    "def one_degree(x, a, b):\n",
    "    return b * x + a\n",
    "\n",
    "def two_degree(x, a, b, c):\n",
    "    return c * x ** 2 + b * x + a\n",
    "\n",
    "def three_degree(x, a, b, c, d):\n",
    "    return d * x ** 3 + c * x ** 2 + b * x + a\n",
    "\n",
    "def four_degree(x, a, b, c, d, e):\n",
    "    return e * x ** 4 + d * x ** 3 + c * x ** 2 + b * x + a"
   ]
  },
  {
   "cell_type": "markdown",
   "metadata": {},
   "source": [
    "With these functions defined, we can now build the `Relationship` objects for each of the functions. "
   ]
  },
  {
   "cell_type": "code",
   "execution_count": null,
   "metadata": {},
   "outputs": [],
   "source": [
    "from uravu.relationship import Relationship"
   ]
  },
  {
   "cell_type": "code",
   "execution_count": null,
   "metadata": {},
   "outputs": [],
   "source": [
    "one_modeller = Relationship(one_degree, x, y, dy)\n",
    "one_modeller.max_likelihood()"
   ]
  },
  {
   "cell_type": "code",
   "execution_count": null,
   "metadata": {},
   "outputs": [],
   "source": [
    "two_modeller = Relationship(two_degree, x, y, dy)\n",
    "two_modeller.max_likelihood()"
   ]
  },
  {
   "cell_type": "code",
   "execution_count": null,
   "metadata": {},
   "outputs": [],
   "source": [
    "three_modeller = Relationship(three_degree, x, y, dy)\n",
    "three_modeller.max_likelihood()"
   ]
  },
  {
   "cell_type": "code",
   "execution_count": null,
   "metadata": {},
   "outputs": [],
   "source": [
    "four_modeller = Relationship(four_degree, x, y, dy)\n",
    "four_modeller.max_likelihood()"
   ]
  },
  {
   "cell_type": "markdown",
   "metadata": {},
   "source": [
    "Having built these, lets see what the maximum likelihood variables are for each. "
   ]
  },
  {
   "cell_type": "code",
   "execution_count": null,
   "metadata": {},
   "outputs": [],
   "source": [
    "print(one_modeller.variables)"
   ]
  },
  {
   "cell_type": "code",
   "execution_count": null,
   "metadata": {},
   "outputs": [],
   "source": [
    "print(two_modeller.variables)"
   ]
  },
  {
   "cell_type": "code",
   "execution_count": null,
   "metadata": {},
   "outputs": [],
   "source": [
    "print(three_modeller.variables)"
   ]
  },
  {
   "cell_type": "code",
   "execution_count": null,
   "metadata": {},
   "outputs": [],
   "source": [
    "print(four_modeller.variables)"
   ]
  },
  {
   "cell_type": "markdown",
   "metadata": {},
   "source": [
    "We can see that the highest order terms are quite small for the larger degree of polynomial. \n",
    "Let's see what effect this has on the evidence. \n",
    "\n",
    "Note that `uravu` and `dynesty` calculates the natural log of the evidence, $\\ln{Z}$. "
   ]
  },
  {
   "cell_type": "code",
   "execution_count": null,
   "metadata": {},
   "outputs": [],
   "source": [
    "one_modeller.nested_sampling()"
   ]
  },
  {
   "cell_type": "code",
   "execution_count": null,
   "metadata": {},
   "outputs": [],
   "source": [
    "two_modeller.nested_sampling()"
   ]
  },
  {
   "cell_type": "code",
   "execution_count": null,
   "metadata": {},
   "outputs": [],
   "source": [
    "three_modeller.nested_sampling()"
   ]
  },
  {
   "cell_type": "code",
   "execution_count": null,
   "metadata": {},
   "outputs": [],
   "source": [
    "four_modeller.nested_sampling()"
   ]
  },
  {
   "cell_type": "markdown",
   "metadata": {},
   "source": [
    "Having estimated $\\ln{Z}$ for each `Relationship`, lets plot them as a function of the number of variables in the model."
   ]
  },
  {
   "cell_type": "code",
   "execution_count": null,
   "metadata": {},
   "outputs": [],
   "source": [
    "variables = [len(one_modeller.variables), len(two_modeller.variables),\n",
    "             len(three_modeller.variables), len(four_modeller.variables)]\n",
    "ln_evidence = [one_modeller.ln_evidence.n, two_modeller.ln_evidence.n,\n",
    "               three_modeller.ln_evidence.n, four_modeller.ln_evidence.n]\n",
    "ln_evidence_err = [one_modeller.ln_evidence.s, two_modeller.ln_evidence.s,\n",
    "                   three_modeller.ln_evidence.s, four_modeller.ln_evidence.s]"
   ]
  },
  {
   "cell_type": "code",
   "execution_count": null,
   "metadata": {},
   "outputs": [],
   "source": [
    "plt.errorbar(variables, ln_evidence, ln_evidence_err, marker='o', ls='')\n",
    "plt.xlabel('Number of variables')\n",
    "plt.ylabel(r'$\\ln{Z}$')\n",
    "plt.show()"
   ]
  },
  {
   "cell_type": "markdown",
   "metadata": {},
   "source": [
    "We can see that the evidence reaches a maxiumum at 3 variables (the `two_degree` model), this indicates that this is the most probable model for analysis of this dataset. \n",
    "\n",
    "Finally, we can use some build in functionality of `uravu` to compare different evidence values, in a value known as the [Bayes factor](https://doi.org/10.2307/2291091). \n",
    "Let's compare the `one_degree` and `two_degree` models."
   ]
  },
  {
   "cell_type": "code",
   "execution_count": null,
   "metadata": {},
   "outputs": [],
   "source": [
    "from uravu import utils"
   ]
  },
  {
   "cell_type": "code",
   "execution_count": null,
   "metadata": {},
   "outputs": [],
   "source": [
    "print(utils.bayes_factor(two_modeller.ln_evidence, one_modeller.ln_evidence))"
   ]
  },
  {
   "cell_type": "markdown",
   "metadata": {},
   "source": [
    "The Bayes factor between the two and one degree models, $2\\ln{B_{21}}$, has a value of ~9. \n",
    "The Table in [Kass and Raftery](https://doi.org/10.2307/2291091) suggests that this shows \"Strong\" evidence for the model with more variables (the `two_degree` model). \n",
    "\n",
    "This means that it is sensible to go ahead and use the `two_degree` model in the further analysis of our data, using MCMC for example. "
   ]
  },
  {
   "cell_type": "code",
   "execution_count": null,
   "metadata": {},
   "outputs": [],
   "source": [
    "two_modeller.mcmc()"
   ]
  },
  {
   "cell_type": "code",
   "execution_count": null,
   "metadata": {},
   "outputs": [],
   "source": [
    "from uravu import plotting"
   ]
  },
  {
   "cell_type": "code",
   "execution_count": null,
   "metadata": {},
   "outputs": [],
   "source": [
    "plotting.plot_relationship(two_modeller)\n",
    "plt.show()"
   ]
  }
 ],
 "metadata": {
  "kernelspec": {
   "display_name": "Python 3",
   "language": "python",
   "name": "python3"
  },
  "language_info": {
   "codemirror_mode": {
    "name": "ipython",
    "version": 3
   },
   "file_extension": ".py",
   "mimetype": "text/x-python",
   "name": "python",
   "nbconvert_exporter": "python",
   "pygments_lexer": "ipython3",
   "version": "3.7.3"
  }
 },
 "nbformat": 4,
 "nbformat_minor": 4
}
