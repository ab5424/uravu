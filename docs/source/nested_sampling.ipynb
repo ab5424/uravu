{
 "cells": [
  {
   "cell_type": "markdown",
   "metadata": {},
   "source": [
    "# Nested sampling\n",
    "\n",
    "In the [MCMC tutorial](./mcmc.html), Bayes theorem was shown, \n",
    "\n",
    "$$ p = \\frac{P L}{Z}, $$\n",
    "\n",
    "where where, $p$ is the posterior probability, $P$ is the prior probability, $L$ is the likelihood, and $Z$ is the evidence. \n",
    "Normally, in the evaluation of the posterior probability, the evidence is removed as a constant of propertionality. \n",
    "This is due to the fact that it is a single value for a given model and dataset pair. \n",
    "\n",
    "However, sometimes it is desirable to find the evidence for a model to a given dataset.\n",
    "In particular, when we want to compare the evidence for a series of models, to determine which best describes the dataset.\n",
    "In order to achieve this, `uravu` is able to perform [nested sampling](https://doi.org/10.1063/1.1835238) to estimate the Bayesian evidence for a model given a particular dataset. \n",
    "\n",
    "This tutorial will show how this is achieved, and show the utility of Bayesian model selection. \n",
    "\n",
    "However, as always we must first create some *synthetic* data. "
   ]
  },
  {
   "cell_type": "code",
   "execution_count": 1,
   "metadata": {},
   "outputs": [],
   "source": [
    "import numpy as np\n",
    "import matplotlib.pyplot as plt\n",
    "from scipy.stats import lognorm\n",
    "from uravu.distribution import Distribution\n",
    "from uravu.relationship import Relationship\n",
    "from uravu import plotting, utils"
   ]
  },
  {
   "cell_type": "code",
   "execution_count": 2,
   "metadata": {},
   "outputs": [],
   "source": [
    "np.random.seed(2)"
   ]
  },
  {
   "cell_type": "markdown",
   "metadata": {},
   "source": [
    "This synthetic data is log-normally distributed in the ordinate. \n",
    "See [distributions](./distributions.html) tutorial to find out defining non-normally distributed data. "
   ]
  },
  {
   "cell_type": "code",
   "execution_count": 3,
   "metadata": {},
   "outputs": [],
   "source": [
    "x = np.linspace(10, 50, 20)\n",
    "y = .3 * x ** 2 - 1.4 * x + .2\n",
    "Y = []\n",
    "for i in y:\n",
    "    Y.append(Distribution(lognorm.rvs(s=2, loc=i, scale=1, size=1000)))"
   ]
  },
  {
   "cell_type": "markdown",
   "metadata": {},
   "source": [
    "From looking at the code used to synthesize this data, it is clear that the functional from of the model is a quadratic polynomial. \n",
    "However, if this was data collected from some measurement and the physical theory suggests it should be analysed with a polynormial of unknown degree then Bayesian model selection would be the ideal tool to find the best model. \n",
    "\n",
    "Let's quickly write a few models to perform the `n` degree polynomial analysis with. "
   ]
  },
  {
   "cell_type": "code",
   "execution_count": 4,
   "metadata": {},
   "outputs": [],
   "source": [
    "def one_degree(x, a, b):\n",
    "    return b * x + a\n",
    "\n",
    "def two_degree(x, a, b, c):\n",
    "    return c * x ** 2 + b * x + a\n",
    "\n",
    "def three_degree(x, a, b, c, d):\n",
    "    return d * x ** 3 + c * x ** 2 + b * x + a\n",
    "\n",
    "def four_degree(x, a, b, c, d, e):\n",
    "    return e * x ** 4 + d * x ** 3 + c * x ** 2 + b * x + a"
   ]
  },
  {
   "cell_type": "markdown",
   "metadata": {},
   "source": [
    "With these functions defined, we can now build the `Relationship` objects for each of the functions. "
   ]
  },
  {
   "cell_type": "code",
   "execution_count": 5,
   "metadata": {},
   "outputs": [],
   "source": [
    "one_modeller = Relationship(one_degree, x, Y, \n",
    "                            bounds=((-300, 0), (-2, 20)))\n",
    "one_modeller.max_likelihood('diff_evo')"
   ]
  },
  {
   "cell_type": "code",
   "execution_count": 6,
   "metadata": {},
   "outputs": [],
   "source": [
    "two_modeller = Relationship(two_degree, x, Y, \n",
    "                            bounds=((-2, 2), (-2, 2), (-1, 1)))\n",
    "two_modeller.max_likelihood('diff_evo')"
   ]
  },
  {
   "cell_type": "code",
   "execution_count": 7,
   "metadata": {},
   "outputs": [],
   "source": [
    "three_modeller = Relationship(three_degree, x, Y, \n",
    "                              bounds=((-2, 2), (-2, 2), (-1, 1), (-0.2, 0.2)))\n",
    "three_modeller.max_likelihood('diff_evo')"
   ]
  },
  {
   "cell_type": "code",
   "execution_count": 8,
   "metadata": {},
   "outputs": [],
   "source": [
    "four_modeller = Relationship(four_degree, x, Y, \n",
    "                             bounds=((-2, 2), (-2, 2), (-1, 1), (-0.2, 0.2), (-0.02, 0.02)))\n",
    "four_modeller.max_likelihood('diff_evo')"
   ]
  },
  {
   "cell_type": "markdown",
   "metadata": {},
   "source": [
    "Having built these, lets see what the maximum likelihood variables are for each. "
   ]
  },
  {
   "cell_type": "code",
   "execution_count": 9,
   "metadata": {},
   "outputs": [
    {
     "name": "stdout",
     "output_type": "stream",
     "text": [
      "[-245.49075453   17.69708446]\n"
     ]
    }
   ],
   "source": [
    "print(one_modeller.variable_medians)"
   ]
  },
  {
   "cell_type": "code",
   "execution_count": 10,
   "metadata": {},
   "outputs": [
    {
     "name": "stdout",
     "output_type": "stream",
     "text": [
      "[ 0.92673225 -1.28344677  0.29831624]\n"
     ]
    }
   ],
   "source": [
    "print(two_modeller.variable_medians)"
   ]
  },
  {
   "cell_type": "code",
   "execution_count": 11,
   "metadata": {},
   "outputs": [
    {
     "name": "stdout",
     "output_type": "stream",
     "text": [
      "[ 1.12171456e+00 -1.50994256e+00  3.11896641e-01 -1.85985620e-04]\n"
     ]
    }
   ],
   "source": [
    "print(three_modeller.variable_medians)"
   ]
  },
  {
   "cell_type": "code",
   "execution_count": 12,
   "metadata": {},
   "outputs": [
    {
     "name": "stdout",
     "output_type": "stream",
     "text": [
      "[ 3.50408477e-01 -9.58251997e-01  2.64924917e-01  1.09249940e-03\n",
      " -1.10893799e-05]\n"
     ]
    }
   ],
   "source": [
    "print(four_modeller.variable_medians)"
   ]
  },
  {
   "cell_type": "markdown",
   "metadata": {},
   "source": [
    "It is possible to quickly visualise the relationship with the `plotting` function, which shows the log-normal distribution of the ordinate data. "
   ]
  },
  {
   "cell_type": "code",
   "execution_count": 13,
   "metadata": {},
   "outputs": [
    {
     "data": {
      "image/png": "[encoded data removed]",
      "text/plain": [
       "<Figure size 720x432 with 1 Axes>"
      ]
     },
     "metadata": {
      "needs_background": "light"
     },
     "output_type": "display_data"
    }
   ],
   "source": [
    "plotting.plot_relationship(one_modeller)\n",
    "plt.show()"
   ]
  },
  {
   "cell_type": "markdown",
   "metadata": {},
   "source": [
    "We can see that the highest order terms are quite small for the larger degree of polynomial. \n",
    "Let's see what effect this has on the evidence. \n",
    "\n",
    "Note that `uravu` and `dynesty` calculates the natural log of the evidence, $\\ln{Z}$. "
   ]
  },
  {
   "cell_type": "code",
   "execution_count": 14,
   "metadata": {},
   "outputs": [
    {
     "name": "stderr",
     "output_type": "stream",
     "text": [
      "3426it [00:15, 218.67it/s, +500 | bound: 5 | nc: 1 | ncall: 21338 | eff(%): 18.399 | loglstar:   -inf < -123.515 <    inf | logz: -129.507 +/-  0.140 | dlogz:  0.001 >  0.509]\n"
     ]
    }
   ],
   "source": [
    "one_modeller.nested_sampling()"
   ]
  },
  {
   "cell_type": "code",
   "execution_count": 15,
   "metadata": {},
   "outputs": [
    {
     "name": "stderr",
     "output_type": "stream",
     "text": [
      "3790it [00:23, 159.11it/s, +500 | bound: 7 | nc: 1 | ncall: 22819 | eff(%): 18.800 | loglstar:   -inf < -82.248 <    inf | logz: -88.982 +/-  0.150 | dlogz:  0.001 >  0.509]\n"
     ]
    }
   ],
   "source": [
    "two_modeller.nested_sampling()"
   ]
  },
  {
   "cell_type": "code",
   "execution_count": 16,
   "metadata": {},
   "outputs": [
    {
     "name": "stderr",
     "output_type": "stream",
     "text": [
      "6147it [00:46, 131.77it/s, +500 | bound: 16 | nc: 1 | ncall: 30273 | eff(%): 21.957 | loglstar:   -inf < -84.756 <    inf | logz: -96.245 +/-  0.207 | dlogz:  0.001 >  0.509]   \n"
     ]
    }
   ],
   "source": [
    "three_modeller.nested_sampling()"
   ]
  },
  {
   "cell_type": "code",
   "execution_count": 17,
   "metadata": {},
   "outputs": [
    {
     "name": "stderr",
     "output_type": "stream",
     "text": [
      "9083it [01:12, 125.81it/s, +500 | bound: 29 | nc: 1 | ncall: 39979 | eff(%): 23.970 | loglstar:   -inf < -81.820 <    inf | logz: -99.205 +/-  0.261 | dlogz:  0.001 >  0.509]     \n"
     ]
    }
   ],
   "source": [
    "four_modeller.nested_sampling()"
   ]
  },
  {
   "cell_type": "markdown",
   "metadata": {},
   "source": [
    "Having estimated $\\ln{Z}$ for each `Relationship`, lets plot them as a function of the number of variables in the model."
   ]
  },
  {
   "cell_type": "code",
   "execution_count": 18,
   "metadata": {},
   "outputs": [],
   "source": [
    "variables = [len(one_modeller.variables), len(two_modeller.variables),\n",
    "             len(three_modeller.variables), len(four_modeller.variables)]\n",
    "ln_evidence = [one_modeller.ln_evidence.n, two_modeller.ln_evidence.n,\n",
    "               three_modeller.ln_evidence.n, four_modeller.ln_evidence.n]\n",
    "ln_evidence_err = [one_modeller.ln_evidence.s, two_modeller.ln_evidence.s,\n",
    "                   three_modeller.ln_evidence.s, four_modeller.ln_evidence.s]"
   ]
  },
  {
   "cell_type": "code",
   "execution_count": 19,
   "metadata": {},
   "outputs": [
    {
     "data": {
      "image/png": "[encoded data removed]",
      "text/plain": [
       "<Figure size 432x288 with 1 Axes>"
      ]
     },
     "metadata": {
      "needs_background": "light"
     },
     "output_type": "display_data"
    }
   ],
   "source": [
    "plt.errorbar(variables, ln_evidence, ln_evidence_err, marker='o', ls='')\n",
    "plt.xlabel('Number of variables')\n",
    "plt.ylabel(r'$\\ln{Z}$')\n",
    "plt.show()"
   ]
  },
  {
   "cell_type": "markdown",
   "metadata": {},
   "source": [
    "We can see that the evidence reaches a maxiumum at 3 variables (the `two_degree` model), this indicates that this is the most probable model for analysis of this dataset. \n",
    "\n",
    "Finally, we can use some build in functionality of `uravu` to compare different evidence values, in a value known as the [Bayes factor](https://doi.org/10.2307/2291091). \n",
    "Let's compare the `one_degree` and `two_degree` models."
   ]
  },
  {
   "cell_type": "code",
   "execution_count": 21,
   "metadata": {},
   "outputs": [
    {
     "name": "stdout",
     "output_type": "stream",
     "text": [
      "81.0+/-0.4\n"
     ]
    }
   ],
   "source": [
    "print(utils.bayes_factor(two_modeller.ln_evidence, one_modeller.ln_evidence))"
   ]
  },
  {
   "cell_type": "markdown",
   "metadata": {},
   "source": [
    "The Bayes factor between the two and one degree models, $2\\ln{B_{21}}$, has a value of $\\sim81$. \n",
    "The Table in [Kass and Raftery](https://doi.org/10.2307/2291091) suggests that this shows \"Strong\" evidence for the model with more variables (the `two_degree` model). \n",
    "\n",
    "This means that it is sensible to go ahead and use the `two_degree` model in the further analysis of our data, using MCMC for example. "
   ]
  },
  {
   "cell_type": "code",
   "execution_count": 22,
   "metadata": {},
   "outputs": [
    {
     "data": {
      "image/png": "[encoded data removed]",
      "text/plain": [
       "<Figure size 720x432 with 1 Axes>"
      ]
     },
     "metadata": {
      "needs_background": "light"
     },
     "output_type": "display_data"
    }
   ],
   "source": [
    "plotting.plot_relationship(two_modeller)\n",
    "plt.show()"
   ]
  },
  {
   "cell_type": "code",
   "execution_count": null,
   "metadata": {},
   "outputs": [],
   "source": []
  }
 ],
 "metadata": {
  "kernelspec": {
   "display_name": "Python 3",
   "language": "python",
   "name": "python3"
  },
  "language_info": {
   "codemirror_mode": {
    "name": "ipython",
    "version": 3
   },
   "file_extension": ".py",
   "mimetype": "text/x-python",
   "name": "python",
   "nbconvert_exporter": "python",
   "pygments_lexer": "ipython3",
   "version": "3.7.6"
  }
 },
 "nbformat": 4,
 "nbformat_minor": 4
}
